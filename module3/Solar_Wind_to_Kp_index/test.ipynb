{
 "cells": [
  {
   "cell_type": "code",
   "execution_count": 6,
   "metadata": {},
   "outputs": [],
   "source": [
    "import torch\n",
    "import torch.nn as nn"
   ]
  },
  {
   "cell_type": "code",
   "execution_count": 13,
   "metadata": {},
   "outputs": [
    {
     "name": "stdout",
     "output_type": "stream",
     "text": [
      "Layer Name: features\n",
      "Sequential(\n",
      "  (0): Conv2d(1, 16, kernel_size=(16, 1), stride=(1, 1))\n",
      "  (1): BatchNorm2d(16, eps=1e-05, momentum=0.1, affine=True, track_running_stats=True)\n",
      "  (2): GELU(approximate='none')\n",
      "  (3): MaxPool2d(kernel_size=(16, 1), stride=(3, 1), padding=0, dilation=1, ceil_mode=False)\n",
      "  (4): Dropout(p=0.1, inplace=False)\n",
      "  (5): Conv2d(16, 32, kernel_size=(16, 1), stride=(1, 1))\n",
      "  (6): BatchNorm2d(32, eps=1e-05, momentum=0.1, affine=True, track_running_stats=True)\n",
      "  (7): GELU(approximate='none')\n",
      "  (8): MaxPool2d(kernel_size=(16, 1), stride=(3, 1), padding=0, dilation=1, ceil_mode=False)\n",
      "  (9): Dropout(p=0.1, inplace=False)\n",
      "  (10): Conv2d(32, 64, kernel_size=(16, 1), stride=(1, 1))\n",
      "  (11): BatchNorm2d(64, eps=1e-05, momentum=0.1, affine=True, track_running_stats=True)\n",
      "  (12): GELU(approximate='none')\n",
      "  (13): MaxPool2d(kernel_size=(16, 1), stride=(3, 1), padding=0, dilation=1, ceil_mode=False)\n",
      "  (14): Dropout(p=0.1, inplace=False)\n",
      ")\n",
      "-----------\n",
      "Layer Name: classifier\n",
      "Sequential(\n",
      "  (0): Linear(in_features=76800, out_features=32768, bias=True)\n",
      "  (1): GELU(approximate='none')\n",
      "  (2): Linear(in_features=32768, out_features=4096, bias=True)\n",
      "  (3): GELU(approximate='none')\n",
      "  (4): Linear(in_features=4096, out_features=512, bias=True)\n",
      "  (5): GELU(approximate='none')\n",
      "  (6): Linear(in_features=512, out_features=64, bias=True)\n",
      "  (7): GELU(approximate='none')\n",
      "  (8): Linear(in_features=64, out_features=3, bias=True)\n",
      "  (9): GELU(approximate='none')\n",
      ")\n",
      "-----------\n"
     ]
    }
   ],
   "source": [
    "import torch.nn as nn\n",
    "\n",
    "class CNN(nn.Module):\n",
    "    def __init__(self):\n",
    "        super(CNN, self).__init__()\n",
    "\n",
    "        self.features = nn.Sequential(\n",
    "            nn.Conv2d(in_channels=1, out_channels=16, kernel_size=(16, 1), stride=(1, 1)),\n",
    "            nn.BatchNorm2d(16),\n",
    "            nn.GELU(),\n",
    "            nn.MaxPool2d(kernel_size=(16, 1), stride=(3, 1)),\n",
    "            nn.Dropout(p=0.1),\n",
    "\n",
    "            nn.Conv2d(in_channels=16, out_channels=32, kernel_size=(16, 1), stride=(1, 1)),\n",
    "            nn.BatchNorm2d(32),\n",
    "            nn.GELU(),\n",
    "            nn.MaxPool2d(kernel_size=(16, 1), stride=(3, 1)),\n",
    "            nn.Dropout(p=0.1),\n",
    "\n",
    "            nn.Conv2d(in_channels=32, out_channels=64, kernel_size=(16, 1), stride=(1, 1)),\n",
    "            nn.BatchNorm2d(64),\n",
    "            nn.GELU(),\n",
    "            nn.MaxPool2d(kernel_size=(16, 1), stride=(3, 1)),\n",
    "            nn.Dropout(p=0.1)\n",
    "        )\n",
    "\n",
    "        self.classifier = nn.Sequential(\n",
    "            nn.Linear(76800, 32768),\n",
    "            nn.GELU(),\n",
    "            nn.Linear(32768, 4096),\n",
    "            nn.GELU(),\n",
    "            nn.Linear(4096, 512),\n",
    "            nn.GELU(),\n",
    "            nn.Linear(512, 64),\n",
    "            nn.GELU(),\n",
    "            nn.Linear(64, 3),\n",
    "            nn.GELU()\n",
    "        )\n",
    "\n",
    "    def forward(self, x):\n",
    "        x = self.features(x)\n",
    "        x = x.view(x.size(0), -1)\n",
    "        x = self.classifier(x)\n",
    "        return x\n",
    "\n",
    "if __name__ == \"__main__\":\n",
    "    model_plot = CNN()\n",
    "    input_tensor = torch.randn(1, 1, 1024, 50)\n",
    "    output = model_plot(input_tensor)\n",
    "    \n",
    "    for name, module in model_plot.named_children():\n",
    "        print(f\"Layer Name: {name}\")\n",
    "        print(module)\n",
    "        print(\"-----------\")\n"
   ]
  },
  {
   "cell_type": "code",
   "execution_count": null,
   "metadata": {},
   "outputs": [],
   "source": []
  }
 ],
 "metadata": {
  "kernelspec": {
   "display_name": "parameter_update",
   "language": "python",
   "name": "python3"
  },
  "language_info": {
   "codemirror_mode": {
    "name": "ipython",
    "version": 3
   },
   "file_extension": ".py",
   "mimetype": "text/x-python",
   "name": "python",
   "nbconvert_exporter": "python",
   "pygments_lexer": "ipython3",
   "version": "3.10.9"
  },
  "orig_nbformat": 4
 },
 "nbformat": 4,
 "nbformat_minor": 2
}
